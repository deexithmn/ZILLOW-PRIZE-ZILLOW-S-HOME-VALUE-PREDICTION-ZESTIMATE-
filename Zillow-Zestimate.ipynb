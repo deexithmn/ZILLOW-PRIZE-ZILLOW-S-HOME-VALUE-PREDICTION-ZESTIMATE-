{
  "cells": [
    {
      "metadata": {
        "_cell_guid": "b1076dfc-b9ad-4769-8c92-a6c4dae69d19",
        "_uuid": "8f2839f25d086af736a60e9eeb907d3b93b6e0e5",
        "trusted": true
      },
      "cell_type": "code",
      "source": "# Import necessary libs\n\nimport pandas as pd\nimport numpy as np\nimport os\nimport re\nimport random\nimport datetime\nfrom sklearn.ensemble import RandomForestRegressor\nfrom sklearn.model_selection import GridSearchCV\nfrom sklearn.linear_model import LinearRegression",
      "execution_count": 2,
      "outputs": [
        {
          "name": "stdout",
          "output_type": "stream",
          "text": "Done\n"
        }
      ]
    },
    {
      "metadata": {
        "_cell_guid": "79c7e3d0-c299-4dcb-8224-4455121ee9b0",
        "_uuid": "d629ff2d2480ee46fbb7e2d37f6b5fab8052498a",
        "trusted": true
      },
      "cell_type": "code",
      "source": "# Randomization\nrandom.seed(3)\npd.options.mode.chained_assignment = None\nprint (\"Turned warnings off\")",
      "execution_count": 5,
      "outputs": [
        {
          "name": "stdout",
          "output_type": "stream",
          "text": "done\n"
        }
      ]
    },
    {
      "metadata": {
        "trusted": true,
        "_uuid": "cd71cbfa0bb98364c619281d296583e9c5477d5b"
      },
      "cell_type": "code",
      "source": "# Read of the data\ntrain_data_2016 = pd.read_csv(\"../input/train_2016_v2.csv\") \ntrain_data_2017 = pd.read_csv(\"../input/train_2017.csv\")\nproperties_2016 = pd.read_csv(\"../input/properties_2016.csv\") \nproperties_2017 = pd.read_csv(\"../input/properties_2017.csv\")\nsample_submission = pd.read_csv(\"../input/sample_submission.csv\")\n",
      "execution_count": 8,
      "outputs": [
        {
          "name": "stderr",
          "output_type": "stream",
          "text": "/opt/conda/lib/python3.6/site-packages/IPython/core/interactiveshell.py:2698: DtypeWarning: Columns (22,32,34,49,55) have mixed types. Specify dtype option on import or set low_memory=False.\n  interactivity=interactivity, compiler=compiler, result=result)\n/opt/conda/lib/python3.6/site-packages/IPython/core/interactiveshell.py:2698: DtypeWarning: Columns (49) have mixed types. Specify dtype option on import or set low_memory=False.\n  interactivity=interactivity, compiler=compiler, result=result)\n"
        },
        {
          "name": "stdout",
          "output_type": "stream",
          "text": "Done\n"
        }
      ]
    },
    {
      "metadata": {
        "collapsed": true,
        "trusted": true,
        "_uuid": "72934bbf265d693c7a4754cb1ad46b0623195f50"
      },
      "cell_type": "code",
      "source": "# Reading the coloumns with only interger values for simplicity\nproperties_2016 = properties_2016.select_dtypes(exclude=[object])\n\n# filling in -1 value instead of NaN\nproperties_2016.fillna(-1,inplace=True)  \n\n# merging the data\ntrain_data_2016 = train_data_2016.loc[:,['parcelid','logerror']].merge(properties_2016,how='left',left_on='parcelid',right_on='parcelid')\n\n# dropping the columns\ntrain_x_2016 = train_data_2016.drop(['parcelid','logerror'],axis=1,inplace=False)\n\n# taking the lag error as the prediction coloumn\ntrain_y_2016 = train_data_2016['logerror']\n\n# taking in the sample file as the test data\ntest_2016 = sample_submission.loc[:,['ParcelId']].merge(properties_2016,how='left',left_on='ParcelId',right_on='parcelid')\ntest_x_2016 = test_2016.drop(['ParcelId','parcelid'],axis=1,inplace=False)\n",
      "execution_count": 20,
      "outputs": []
    },
    {
      "metadata": {
        "collapsed": true,
        "trusted": true,
        "_uuid": "f42b13c6e285b7a2bb04fd3c3eafac0510b0bbe1"
      },
      "cell_type": "code",
      "source": "# Reading the coloumns with only interger values for simplicity\nproperties_2017 = properties_2017.select_dtypes(exclude=[object]) \n\n# filling in -1 value instead of NaN\nproperties_2017.fillna(-1,inplace=True)\n\n# merging the data\ntrain_data_2017 = train_data_2017.loc[:,['parcelid','logerror']].merge(properties_2017,how='left',left_on='parcelid',right_on='parcelid')\n\n# dropping the columns\ntrain_x_2017 = train_data_2017.drop(['parcelid','logerror'],axis=1,inplace=False)\n\n# taking the log error as the prediction coloumn\ntrain_y_2017 = train_data_2017['logerror']\n\n# taking in the sample file as the test data\ntest_2017 = sample_submission.loc[:,['ParcelId']].merge(properties_2017,how='left',left_on='ParcelId',right_on='parcelid')\ntest_x_2017 = test_2017.drop(['ParcelId','parcelid'],axis=1,inplace=False)",
      "execution_count": 10,
      "outputs": []
    },
    {
      "metadata": {
        "trusted": true,
        "_uuid": "8f2c06e9bd97dc523f2f175960d91cb68b64e966"
      },
      "cell_type": "code",
      "source": "# building the random forest refressor model using the sklearn library\nmodel1 = RandomForestRegressor(n_estimators = 200, max_depth=30, max_features= 25 )\n\n# fitting the model\nmodel1.fit(train_x_2016,train_y_2016)",
      "execution_count": 21,
      "outputs": [
        {
          "data": {
            "text/plain": "RandomForestRegressor(bootstrap=True, criterion='mse', max_depth=30,\n           max_features=25, max_leaf_nodes=None, min_impurity_decrease=0.0,\n           min_impurity_split=None, min_samples_leaf=1,\n           min_samples_split=2, min_weight_fraction_leaf=0.0,\n           n_estimators=200, n_jobs=1, oob_score=False, random_state=None,\n           verbose=0, warm_start=False)"
          },
          "execution_count": 21,
          "metadata": {},
          "output_type": "execute_result"
        }
      ]
    },
    {
      "metadata": {
        "trusted": true,
        "_uuid": "b49b99a380e7ac39a3f02c9072a99cf0a369c3e7"
      },
      "cell_type": "code",
      "source": "# building the random forest refressor model using the sklearn library\nmodel2 = RandomForestRegressor(n_estimators = 200, max_depth=30, max_features= 25 )\n\nmodel2.fit(train_x_2017,train_y_2017)",
      "execution_count": null,
      "outputs": []
    },
    {
      "metadata": {
        "trusted": true,
        "collapsed": true,
        "_uuid": "1d33ca36bad541a2ad7edb4ad162740668dadf24"
      },
      "cell_type": "code",
      "source": "pred1 = model1.predict(test_x_2016)",
      "execution_count": 23,
      "outputs": []
    },
    {
      "metadata": {
        "collapsed": true,
        "trusted": true,
        "_uuid": "49d80bc09c181da4385d63f7e3d338a4ceabb372"
      },
      "cell_type": "code",
      "source": "pred2 = model2.predict(test_x_2017)",
      "execution_count": 24,
      "outputs": []
    },
    {
      "metadata": {
        "trusted": true,
        "collapsed": true,
        "_uuid": "341c89f4d498469feac45607c33fbe98cb0e3dee"
      },
      "cell_type": "code",
      "source": "pred = pd.DataFrame(pred1,columns=['201610'])\npred['201611'] = pred1\npred['201612'] = pred1\npred['201710'] = pred2\npred['201711'] = pred2\npred['201712'] = pred2\n\nsubmission = pred.copy()\nsubmission[\"parcelid\"] = sample_submission[\"ParcelId\"].copy()\ncols = [\"parcelid\",\"201610\",\"201611\",\"201612\",\"201710\",\"201711\",\"201712\"]\nsubmission = submission[cols]\nfilename = \"PredictedValue.csv\"\nsubmission.to_csv(filename,index=False)",
      "execution_count": 28,
      "outputs": []
    }
  ],
  "metadata": {
    "kernelspec": {
      "display_name": "Python 3",
      "language": "python",
      "name": "python3"
    },
    "language_info": {
      "name": "python",
      "version": "3.6.5",
      "mimetype": "text/x-python",
      "codemirror_mode": {
        "name": "ipython",
        "version": 3
      },
      "pygments_lexer": "ipython3",
      "nbconvert_exporter": "python",
      "file_extension": ".py"
    }
  },
  "nbformat": 4,
  "nbformat_minor": 1
}